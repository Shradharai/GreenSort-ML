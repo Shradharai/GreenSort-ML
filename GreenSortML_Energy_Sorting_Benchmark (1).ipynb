{
  "cells": [
    {
      "cell_type": "markdown",
      "source": [
        "# 📦 Step 1: Install required packages"
      ],
      "metadata": {
        "id": "4tBCv6UKuTH7"
      },
      "id": "4tBCv6UKuTH7"
    },
    {
      "cell_type": "code",
      "execution_count": 1,
      "metadata": {
        "id": "JkhlE81DuLHO",
        "colab": {
          "base_uri": "https://localhost:8080/"
        },
        "outputId": "9e5ea4b6-10e1-4fb3-b835-4e43bad1fa3a"
      },
      "outputs": [
        {
          "output_type": "stream",
          "name": "stdout",
          "text": [
            "Requirement already satisfied: xgboost in /usr/local/lib/python3.12/dist-packages (3.0.4)\n",
            "Requirement already satisfied: scikit-learn in /usr/local/lib/python3.12/dist-packages (1.6.1)\n",
            "Requirement already satisfied: matplotlib in /usr/local/lib/python3.12/dist-packages (3.10.0)\n",
            "Requirement already satisfied: seaborn in /usr/local/lib/python3.12/dist-packages (0.13.2)\n",
            "Requirement already satisfied: pandas in /usr/local/lib/python3.12/dist-packages (2.2.2)\n",
            "Requirement already satisfied: numpy in /usr/local/lib/python3.12/dist-packages (from xgboost) (2.0.2)\n",
            "Requirement already satisfied: nvidia-nccl-cu12 in /usr/local/lib/python3.12/dist-packages (from xgboost) (2.27.3)\n",
            "Requirement already satisfied: scipy in /usr/local/lib/python3.12/dist-packages (from xgboost) (1.16.1)\n",
            "Requirement already satisfied: joblib>=1.2.0 in /usr/local/lib/python3.12/dist-packages (from scikit-learn) (1.5.1)\n",
            "Requirement already satisfied: threadpoolctl>=3.1.0 in /usr/local/lib/python3.12/dist-packages (from scikit-learn) (3.6.0)\n",
            "Requirement already satisfied: contourpy>=1.0.1 in /usr/local/lib/python3.12/dist-packages (from matplotlib) (1.3.3)\n",
            "Requirement already satisfied: cycler>=0.10 in /usr/local/lib/python3.12/dist-packages (from matplotlib) (0.12.1)\n",
            "Requirement already satisfied: fonttools>=4.22.0 in /usr/local/lib/python3.12/dist-packages (from matplotlib) (4.59.1)\n",
            "Requirement already satisfied: kiwisolver>=1.3.1 in /usr/local/lib/python3.12/dist-packages (from matplotlib) (1.4.9)\n",
            "Requirement already satisfied: packaging>=20.0 in /usr/local/lib/python3.12/dist-packages (from matplotlib) (25.0)\n",
            "Requirement already satisfied: pillow>=8 in /usr/local/lib/python3.12/dist-packages (from matplotlib) (11.3.0)\n",
            "Requirement already satisfied: pyparsing>=2.3.1 in /usr/local/lib/python3.12/dist-packages (from matplotlib) (3.2.3)\n",
            "Requirement already satisfied: python-dateutil>=2.7 in /usr/local/lib/python3.12/dist-packages (from matplotlib) (2.9.0.post0)\n",
            "Requirement already satisfied: pytz>=2020.1 in /usr/local/lib/python3.12/dist-packages (from pandas) (2025.2)\n",
            "Requirement already satisfied: tzdata>=2022.7 in /usr/local/lib/python3.12/dist-packages (from pandas) (2025.2)\n",
            "Requirement already satisfied: six>=1.5 in /usr/local/lib/python3.12/dist-packages (from python-dateutil>=2.7->matplotlib) (1.17.0)\n"
          ]
        }
      ],
      "source": [
        "!pip install xgboost scikit-learn matplotlib seaborn pandas"
      ],
      "id": "JkhlE81DuLHO"
    },
    {
      "cell_type": "markdown",
      "source": [
        "# 📊 Step 2: Simulated Benchmark Function"
      ],
      "metadata": {
        "id": "VbyFguyOuPX1"
      },
      "id": "VbyFguyOuPX1"
    },
    {
      "cell_type": "code",
      "execution_count": 2,
      "metadata": {
        "id": "HDIMVkHcuLHR"
      },
      "outputs": [],
      "source": [
        "import random\n",
        "import time\n",
        "\n",
        "def simulate_sort_run(size, entropy):\n",
        "    base_time = size * (1 + entropy) / 1e6\n",
        "    time.sleep(min(base_time, 0.5))  # simulate execution\n",
        "    avg_power = 75 + (entropy * 25)  # simulated power in Watts\n",
        "    energy = avg_power * base_time   # Joules = Watts * seconds\n",
        "    return base_time, energy"
      ],
      "id": "HDIMVkHcuLHR"
    },
    {
      "cell_type": "markdown",
      "source": [
        "# 📁 Step 3: Generate Dataset"
      ],
      "metadata": {
        "id": "8nrKxS_nuY-q"
      },
      "id": "8nrKxS_nuY-q"
    },
    {
      "cell_type": "code",
      "execution_count": 3,
      "metadata": {
        "id": "T1mxOWS7uLHR",
        "colab": {
          "base_uri": "https://localhost:8080/",
          "height": 206
        },
        "outputId": "935fd3b5-8eeb-4574-ec44-4618187c05fb"
      },
      "outputs": [
        {
          "output_type": "execute_result",
          "data": {
            "text/plain": [
              "   size  entropy     type  bandwidth       temp  joules      time\n",
              "0  1024      0.0    radix        512  50.209467  0.0768  0.001024\n",
              "1  1024      0.0  bitonic        640  63.888925  0.0768  0.001024\n",
              "2  1024      0.0    merge        512  56.925393  0.0768  0.001024\n",
              "3  1024      0.5    radix        320  55.940907  0.1344  0.001536\n",
              "4  1024      0.5  bitonic        512  58.894494  0.1344  0.001536"
            ],
            "text/html": [
              "\n",
              "  <div id=\"df-47b12d2b-f6d6-40fd-a697-b16eb1cbd9c2\" class=\"colab-df-container\">\n",
              "    <div>\n",
              "<style scoped>\n",
              "    .dataframe tbody tr th:only-of-type {\n",
              "        vertical-align: middle;\n",
              "    }\n",
              "\n",
              "    .dataframe tbody tr th {\n",
              "        vertical-align: top;\n",
              "    }\n",
              "\n",
              "    .dataframe thead th {\n",
              "        text-align: right;\n",
              "    }\n",
              "</style>\n",
              "<table border=\"1\" class=\"dataframe\">\n",
              "  <thead>\n",
              "    <tr style=\"text-align: right;\">\n",
              "      <th></th>\n",
              "      <th>size</th>\n",
              "      <th>entropy</th>\n",
              "      <th>type</th>\n",
              "      <th>bandwidth</th>\n",
              "      <th>temp</th>\n",
              "      <th>joules</th>\n",
              "      <th>time</th>\n",
              "    </tr>\n",
              "  </thead>\n",
              "  <tbody>\n",
              "    <tr>\n",
              "      <th>0</th>\n",
              "      <td>1024</td>\n",
              "      <td>0.0</td>\n",
              "      <td>radix</td>\n",
              "      <td>512</td>\n",
              "      <td>50.209467</td>\n",
              "      <td>0.0768</td>\n",
              "      <td>0.001024</td>\n",
              "    </tr>\n",
              "    <tr>\n",
              "      <th>1</th>\n",
              "      <td>1024</td>\n",
              "      <td>0.0</td>\n",
              "      <td>bitonic</td>\n",
              "      <td>640</td>\n",
              "      <td>63.888925</td>\n",
              "      <td>0.0768</td>\n",
              "      <td>0.001024</td>\n",
              "    </tr>\n",
              "    <tr>\n",
              "      <th>2</th>\n",
              "      <td>1024</td>\n",
              "      <td>0.0</td>\n",
              "      <td>merge</td>\n",
              "      <td>512</td>\n",
              "      <td>56.925393</td>\n",
              "      <td>0.0768</td>\n",
              "      <td>0.001024</td>\n",
              "    </tr>\n",
              "    <tr>\n",
              "      <th>3</th>\n",
              "      <td>1024</td>\n",
              "      <td>0.5</td>\n",
              "      <td>radix</td>\n",
              "      <td>320</td>\n",
              "      <td>55.940907</td>\n",
              "      <td>0.1344</td>\n",
              "      <td>0.001536</td>\n",
              "    </tr>\n",
              "    <tr>\n",
              "      <th>4</th>\n",
              "      <td>1024</td>\n",
              "      <td>0.5</td>\n",
              "      <td>bitonic</td>\n",
              "      <td>512</td>\n",
              "      <td>58.894494</td>\n",
              "      <td>0.1344</td>\n",
              "      <td>0.001536</td>\n",
              "    </tr>\n",
              "  </tbody>\n",
              "</table>\n",
              "</div>\n",
              "    <div class=\"colab-df-buttons\">\n",
              "\n",
              "  <div class=\"colab-df-container\">\n",
              "    <button class=\"colab-df-convert\" onclick=\"convertToInteractive('df-47b12d2b-f6d6-40fd-a697-b16eb1cbd9c2')\"\n",
              "            title=\"Convert this dataframe to an interactive table.\"\n",
              "            style=\"display:none;\">\n",
              "\n",
              "  <svg xmlns=\"http://www.w3.org/2000/svg\" height=\"24px\" viewBox=\"0 -960 960 960\">\n",
              "    <path d=\"M120-120v-720h720v720H120Zm60-500h600v-160H180v160Zm220 220h160v-160H400v160Zm0 220h160v-160H400v160ZM180-400h160v-160H180v160Zm440 0h160v-160H620v160ZM180-180h160v-160H180v160Zm440 0h160v-160H620v160Z\"/>\n",
              "  </svg>\n",
              "    </button>\n",
              "\n",
              "  <style>\n",
              "    .colab-df-container {\n",
              "      display:flex;\n",
              "      gap: 12px;\n",
              "    }\n",
              "\n",
              "    .colab-df-convert {\n",
              "      background-color: #E8F0FE;\n",
              "      border: none;\n",
              "      border-radius: 50%;\n",
              "      cursor: pointer;\n",
              "      display: none;\n",
              "      fill: #1967D2;\n",
              "      height: 32px;\n",
              "      padding: 0 0 0 0;\n",
              "      width: 32px;\n",
              "    }\n",
              "\n",
              "    .colab-df-convert:hover {\n",
              "      background-color: #E2EBFA;\n",
              "      box-shadow: 0px 1px 2px rgba(60, 64, 67, 0.3), 0px 1px 3px 1px rgba(60, 64, 67, 0.15);\n",
              "      fill: #174EA6;\n",
              "    }\n",
              "\n",
              "    .colab-df-buttons div {\n",
              "      margin-bottom: 4px;\n",
              "    }\n",
              "\n",
              "    [theme=dark] .colab-df-convert {\n",
              "      background-color: #3B4455;\n",
              "      fill: #D2E3FC;\n",
              "    }\n",
              "\n",
              "    [theme=dark] .colab-df-convert:hover {\n",
              "      background-color: #434B5C;\n",
              "      box-shadow: 0px 1px 3px 1px rgba(0, 0, 0, 0.15);\n",
              "      filter: drop-shadow(0px 1px 2px rgba(0, 0, 0, 0.3));\n",
              "      fill: #FFFFFF;\n",
              "    }\n",
              "  </style>\n",
              "\n",
              "    <script>\n",
              "      const buttonEl =\n",
              "        document.querySelector('#df-47b12d2b-f6d6-40fd-a697-b16eb1cbd9c2 button.colab-df-convert');\n",
              "      buttonEl.style.display =\n",
              "        google.colab.kernel.accessAllowed ? 'block' : 'none';\n",
              "\n",
              "      async function convertToInteractive(key) {\n",
              "        const element = document.querySelector('#df-47b12d2b-f6d6-40fd-a697-b16eb1cbd9c2');\n",
              "        const dataTable =\n",
              "          await google.colab.kernel.invokeFunction('convertToInteractive',\n",
              "                                                    [key], {});\n",
              "        if (!dataTable) return;\n",
              "\n",
              "        const docLinkHtml = 'Like what you see? Visit the ' +\n",
              "          '<a target=\"_blank\" href=https://colab.research.google.com/notebooks/data_table.ipynb>data table notebook</a>'\n",
              "          + ' to learn more about interactive tables.';\n",
              "        element.innerHTML = '';\n",
              "        dataTable['output_type'] = 'display_data';\n",
              "        await google.colab.output.renderOutput(dataTable, element);\n",
              "        const docLink = document.createElement('div');\n",
              "        docLink.innerHTML = docLinkHtml;\n",
              "        element.appendChild(docLink);\n",
              "      }\n",
              "    </script>\n",
              "  </div>\n",
              "\n",
              "\n",
              "    <div id=\"df-446e3901-48cc-4b53-a11c-ca4ab6a1ae29\">\n",
              "      <button class=\"colab-df-quickchart\" onclick=\"quickchart('df-446e3901-48cc-4b53-a11c-ca4ab6a1ae29')\"\n",
              "                title=\"Suggest charts\"\n",
              "                style=\"display:none;\">\n",
              "\n",
              "<svg xmlns=\"http://www.w3.org/2000/svg\" height=\"24px\"viewBox=\"0 0 24 24\"\n",
              "     width=\"24px\">\n",
              "    <g>\n",
              "        <path d=\"M19 3H5c-1.1 0-2 .9-2 2v14c0 1.1.9 2 2 2h14c1.1 0 2-.9 2-2V5c0-1.1-.9-2-2-2zM9 17H7v-7h2v7zm4 0h-2V7h2v10zm4 0h-2v-4h2v4z\"/>\n",
              "    </g>\n",
              "</svg>\n",
              "      </button>\n",
              "\n",
              "<style>\n",
              "  .colab-df-quickchart {\n",
              "      --bg-color: #E8F0FE;\n",
              "      --fill-color: #1967D2;\n",
              "      --hover-bg-color: #E2EBFA;\n",
              "      --hover-fill-color: #174EA6;\n",
              "      --disabled-fill-color: #AAA;\n",
              "      --disabled-bg-color: #DDD;\n",
              "  }\n",
              "\n",
              "  [theme=dark] .colab-df-quickchart {\n",
              "      --bg-color: #3B4455;\n",
              "      --fill-color: #D2E3FC;\n",
              "      --hover-bg-color: #434B5C;\n",
              "      --hover-fill-color: #FFFFFF;\n",
              "      --disabled-bg-color: #3B4455;\n",
              "      --disabled-fill-color: #666;\n",
              "  }\n",
              "\n",
              "  .colab-df-quickchart {\n",
              "    background-color: var(--bg-color);\n",
              "    border: none;\n",
              "    border-radius: 50%;\n",
              "    cursor: pointer;\n",
              "    display: none;\n",
              "    fill: var(--fill-color);\n",
              "    height: 32px;\n",
              "    padding: 0;\n",
              "    width: 32px;\n",
              "  }\n",
              "\n",
              "  .colab-df-quickchart:hover {\n",
              "    background-color: var(--hover-bg-color);\n",
              "    box-shadow: 0 1px 2px rgba(60, 64, 67, 0.3), 0 1px 3px 1px rgba(60, 64, 67, 0.15);\n",
              "    fill: var(--button-hover-fill-color);\n",
              "  }\n",
              "\n",
              "  .colab-df-quickchart-complete:disabled,\n",
              "  .colab-df-quickchart-complete:disabled:hover {\n",
              "    background-color: var(--disabled-bg-color);\n",
              "    fill: var(--disabled-fill-color);\n",
              "    box-shadow: none;\n",
              "  }\n",
              "\n",
              "  .colab-df-spinner {\n",
              "    border: 2px solid var(--fill-color);\n",
              "    border-color: transparent;\n",
              "    border-bottom-color: var(--fill-color);\n",
              "    animation:\n",
              "      spin 1s steps(1) infinite;\n",
              "  }\n",
              "\n",
              "  @keyframes spin {\n",
              "    0% {\n",
              "      border-color: transparent;\n",
              "      border-bottom-color: var(--fill-color);\n",
              "      border-left-color: var(--fill-color);\n",
              "    }\n",
              "    20% {\n",
              "      border-color: transparent;\n",
              "      border-left-color: var(--fill-color);\n",
              "      border-top-color: var(--fill-color);\n",
              "    }\n",
              "    30% {\n",
              "      border-color: transparent;\n",
              "      border-left-color: var(--fill-color);\n",
              "      border-top-color: var(--fill-color);\n",
              "      border-right-color: var(--fill-color);\n",
              "    }\n",
              "    40% {\n",
              "      border-color: transparent;\n",
              "      border-right-color: var(--fill-color);\n",
              "      border-top-color: var(--fill-color);\n",
              "    }\n",
              "    60% {\n",
              "      border-color: transparent;\n",
              "      border-right-color: var(--fill-color);\n",
              "    }\n",
              "    80% {\n",
              "      border-color: transparent;\n",
              "      border-right-color: var(--fill-color);\n",
              "      border-bottom-color: var(--fill-color);\n",
              "    }\n",
              "    90% {\n",
              "      border-color: transparent;\n",
              "      border-bottom-color: var(--fill-color);\n",
              "    }\n",
              "  }\n",
              "</style>\n",
              "\n",
              "      <script>\n",
              "        async function quickchart(key) {\n",
              "          const quickchartButtonEl =\n",
              "            document.querySelector('#' + key + ' button');\n",
              "          quickchartButtonEl.disabled = true;  // To prevent multiple clicks.\n",
              "          quickchartButtonEl.classList.add('colab-df-spinner');\n",
              "          try {\n",
              "            const charts = await google.colab.kernel.invokeFunction(\n",
              "                'suggestCharts', [key], {});\n",
              "          } catch (error) {\n",
              "            console.error('Error during call to suggestCharts:', error);\n",
              "          }\n",
              "          quickchartButtonEl.classList.remove('colab-df-spinner');\n",
              "          quickchartButtonEl.classList.add('colab-df-quickchart-complete');\n",
              "        }\n",
              "        (() => {\n",
              "          let quickchartButtonEl =\n",
              "            document.querySelector('#df-446e3901-48cc-4b53-a11c-ca4ab6a1ae29 button');\n",
              "          quickchartButtonEl.style.display =\n",
              "            google.colab.kernel.accessAllowed ? 'block' : 'none';\n",
              "        })();\n",
              "      </script>\n",
              "    </div>\n",
              "\n",
              "    </div>\n",
              "  </div>\n"
            ],
            "application/vnd.google.colaboratory.intrinsic+json": {
              "type": "dataframe",
              "variable_name": "df",
              "summary": "{\n  \"name\": \"df\",\n  \"rows\": 45,\n  \"fields\": [\n    {\n      \"column\": \"size\",\n      \"properties\": {\n        \"dtype\": \"number\",\n        \"std\": 50049,\n        \"min\": 1024,\n        \"max\": 131072,\n        \"num_unique_values\": 5,\n        \"samples\": [\n          4096,\n          131072,\n          16384\n        ],\n        \"semantic_type\": \"\",\n        \"description\": \"\"\n      }\n    },\n    {\n      \"column\": \"entropy\",\n      \"properties\": {\n        \"dtype\": \"number\",\n        \"std\": 0.41286141192238524,\n        \"min\": 0.0,\n        \"max\": 1.0,\n        \"num_unique_values\": 3,\n        \"samples\": [\n          0.0,\n          0.5,\n          1.0\n        ],\n        \"semantic_type\": \"\",\n        \"description\": \"\"\n      }\n    },\n    {\n      \"column\": \"type\",\n      \"properties\": {\n        \"dtype\": \"category\",\n        \"num_unique_values\": 3,\n        \"samples\": [\n          \"radix\",\n          \"bitonic\",\n          \"merge\"\n        ],\n        \"semantic_type\": \"\",\n        \"description\": \"\"\n      }\n    },\n    {\n      \"column\": \"bandwidth\",\n      \"properties\": {\n        \"dtype\": \"number\",\n        \"std\": 119,\n        \"min\": 320,\n        \"max\": 640,\n        \"num_unique_values\": 3,\n        \"samples\": [\n          512,\n          640,\n          320\n        ],\n        \"semantic_type\": \"\",\n        \"description\": \"\"\n      }\n    },\n    {\n      \"column\": \"temp\",\n      \"properties\": {\n        \"dtype\": \"number\",\n        \"std\": 7.2251952218724895,\n        \"min\": 50.14092728622408,\n        \"max\": 73.98023701366283,\n        \"num_unique_values\": 45,\n        \"samples\": [\n          50.907239554017735,\n          52.81321330369868,\n          59.521577758973805\n        ],\n        \"semantic_type\": \"\",\n        \"description\": \"\"\n      }\n    },\n    {\n      \"column\": \"joules\",\n      \"properties\": {\n        \"dtype\": \"number\",\n        \"std\": 7.5871923315785015,\n        \"min\": 0.0768,\n        \"max\": 26.214399999999998,\n        \"num_unique_values\": 15,\n        \"samples\": [\n          4.9152,\n          13.107199999999999,\n          0.0768\n        ],\n        \"semantic_type\": \"\",\n        \"description\": \"\"\n      }\n    },\n    {\n      \"column\": \"time\",\n      \"properties\": {\n        \"dtype\": \"number\",\n        \"std\": 0.07986264560606542,\n        \"min\": 0.001024,\n        \"max\": 0.262144,\n        \"num_unique_values\": 14,\n        \"samples\": [\n          0.065536,\n          0.131072,\n          0.001024\n        ],\n        \"semantic_type\": \"\",\n        \"description\": \"\"\n      }\n    }\n  ]\n}"
            }
          },
          "metadata": {},
          "execution_count": 3
        }
      ],
      "source": [
        "import pandas as pd\n",
        "\n",
        "def generate_dataset():\n",
        "    rows = []\n",
        "    for size in [1024, 4096, 16384, 65536, 131072]:\n",
        "        for entropy in [0.0, 0.5, 1.0]:  # ordered, semi-random, random\n",
        "            for sort_type in ['radix', 'bitonic', 'merge']:\n",
        "                temp = random.uniform(50, 75)  # fake temp\n",
        "                bandwidth = random.choice([320, 512, 640])  # GB/s\n",
        "                exec_time, energy = simulate_sort_run(size, entropy)\n",
        "                rows.append({\n",
        "                    'size': size,\n",
        "                    'entropy': entropy,\n",
        "                    'type': sort_type,\n",
        "                    'bandwidth': bandwidth,\n",
        "                    'temp': temp,\n",
        "                    'joules': energy,\n",
        "                    'time': exec_time\n",
        "                })\n",
        "    return pd.DataFrame(rows)\n",
        "\n",
        "df = generate_dataset()\n",
        "df.head()"
      ],
      "id": "T1mxOWS7uLHR"
    },
    {
      "cell_type": "markdown",
      "source": [
        "# 🧠 Step 4: Train ML Model"
      ],
      "metadata": {
        "id": "QAMTvVHMuhVT"
      },
      "id": "QAMTvVHMuhVT"
    },
    {
      "cell_type": "code",
      "execution_count": 4,
      "metadata": {
        "id": "ECox1lOsuLHS",
        "colab": {
          "base_uri": "https://localhost:8080/"
        },
        "outputId": "4d6c03a8-3cc1-4a3d-d1eb-0746b2db3cb3"
      },
      "outputs": [
        {
          "output_type": "stream",
          "name": "stdout",
          "text": [
            "MAE on test set: 1.16 Joules\n"
          ]
        }
      ],
      "source": [
        "from sklearn.model_selection import train_test_split\n",
        "from sklearn.ensemble import GradientBoostingRegressor\n",
        "from sklearn.metrics import mean_absolute_error\n",
        "\n",
        "df_encoded = pd.get_dummies(df, columns=['type'])\n",
        "\n",
        "X = df_encoded.drop(columns=['joules', 'time'])\n",
        "y = df_encoded['joules']\n",
        "\n",
        "X_train, X_test, y_train, y_test = train_test_split(X, y, test_size=0.2, random_state=42)\n",
        "\n",
        "model = GradientBoostingRegressor()\n",
        "model.fit(X_train, y_train)\n",
        "\n",
        "preds = model.predict(X_test)\n",
        "mae = mean_absolute_error(y_test, preds)\n",
        "print(f\"MAE on test set: {mae:.2f} Joules\")"
      ],
      "id": "ECox1lOsuLHS"
    },
    {
      "cell_type": "markdown",
      "source": [
        "# 🔍 Step 5: Backend Predictor"
      ],
      "metadata": {
        "id": "9F0bDfnjuqUz"
      },
      "id": "9F0bDfnjuqUz"
    },
    {
      "cell_type": "code",
      "execution_count": 5,
      "metadata": {
        "id": "-DneFsh9uLHS",
        "colab": {
          "base_uri": "https://localhost:8080/"
        },
        "outputId": "44523824-9ff9-4376-d5fb-a7e7a34f2b39"
      },
      "outputs": [
        {
          "output_type": "stream",
          "name": "stdout",
          "text": [
            "Recommended backend: OpenACC (energy-saving)\n"
          ]
        }
      ],
      "source": [
        "def predict_backend(size, entropy, sort_type, bandwidth, temp, time_diff=0.05):\n",
        "    input_dict = {\n",
        "        'size': size,\n",
        "        'entropy': entropy,\n",
        "        'bandwidth': bandwidth,\n",
        "        'temp': temp,\n",
        "        'type_bitonic': 0,\n",
        "        'type_merge': 0,\n",
        "        'type_radix': 0\n",
        "    }\n",
        "    input_dict[f'type_{sort_type}'] = 1\n",
        "    input_df = pd.DataFrame([input_dict])\n",
        "    predicted_energy = model.predict(input_df)[0]\n",
        "\n",
        "    if predicted_energy < 350 and time_diff < 0.1:\n",
        "        return \"OpenACC (energy-saving)\"\n",
        "    else:\n",
        "        return \"CUDA (faster)\"\n",
        "\n",
        "# 🔄 Example prediction\n",
        "backend = predict_backend(16384, 0.5, 'bitonic', 512, 65)\n",
        "print(\"Recommended backend:\", backend)"
      ],
      "id": "-DneFsh9uLHS"
    },
    {
      "cell_type": "markdown",
      "source": [
        "# 📈 Step 6: Visualization"
      ],
      "metadata": {
        "id": "Pp_juVJJusyG"
      },
      "id": "Pp_juVJJusyG"
    },
    {
      "cell_type": "code",
      "execution_count": 6,
      "metadata": {
        "id": "pSbFuE4AuLHS",
        "colab": {
          "base_uri": "https://localhost:8080/",
          "height": 573
        },
        "outputId": "9826454a-67f8-4e8c-a79a-e364c9b3e629"
      },
      "outputs": [
        {
          "output_type": "display_data",
          "data": {
            "text/plain": [
              "<Figure size 1000x600 with 1 Axes>"
            ],
            "image/png": "[encoded data removed]"
          },
          "metadata": {}
        }
      ],
      "source": [
        "import seaborn as sns\n",
        "import matplotlib.pyplot as plt\n",
        "\n",
        "sns.set(style=\"darkgrid\")\n",
        "plt.figure(figsize=(10,6))\n",
        "sns.scatterplot(data=df, x='size', y='joules', hue='entropy', style='type')\n",
        "plt.title(\"Energy Usage by Input Size and Entropy\")\n",
        "plt.xlabel(\"Input Size\")\n",
        "plt.ylabel(\"Energy (Joules\")\n",
        "plt.legend(title=\"Entropy & Sort Type\")\n",
        "plt.show()"
      ],
      "id": "pSbFuE4AuLHS"
    }
  ],
  "metadata": {
    "kernelspec": {
      "display_name": "Python 3",
      "name": "python3"
    },
    "language_info": {
      "name": "python",
      "version": "3.10"
    },
    "colab": {
      "provenance": [],
      "gpuType": "T4"
    },
    "accelerator": "GPU"
  },
  "nbformat": 4,
  "nbformat_minor": 5
}